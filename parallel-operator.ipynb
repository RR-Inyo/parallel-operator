{
 "cells": [
  {
   "cell_type": "markdown",
   "metadata": {},
   "source": [
    "# SymPyにおける並列回路演算子\"//\"のオーバーロード\n",
    "© 2020 @RR_Inyo\n",
    "\n",
    "電気回路において，2つのインピーダンス$Z_{1}$，$Z_{2}$の並列回路のインピーダンス$Z_{p}$は\n",
    "$$\n",
    "Z_{p} = \\frac{Z_{1} Z_{2}}{Z_{1} + Z_{2}}\n",
    "$$\n",
    "と書ける。このような「『和』分の『積』」の形は煩雑であるため，電気工学の分野ではこれを簡略化して，\n",
    "$$\n",
    "Z_{p} = Z_{1} \\: // \\: Z_{2}\n",
    "$$\n",
    "と略記する。この演算子\"//\"をSymPyでも使えるようにオーバーロードしてみよう。\n",
    "Pythonの特殊メソッド \\_\\_floordiv()\\_\\_ をSymbolのアトリビュートに追加すれば可能である。"
   ]
  },
  {
   "cell_type": "code",
   "execution_count": 1,
   "metadata": {},
   "outputs": [],
   "source": [
    "# 準備\n",
    "import sympy as sp"
   ]
  },
  {
   "cell_type": "code",
   "execution_count": 2,
   "metadata": {},
   "outputs": [
    {
     "name": "stdout",
     "output_type": "stream",
     "text": [
      "Z1 // Z2 =\n"
     ]
    },
    {
     "data": {
      "text/latex": [
       "$\\displaystyle \\left\\lfloor{\\frac{Z_{1}}{Z_{2}}}\\right\\rfloor$"
      ],
      "text/plain": [
       "floor(Z_{1}/Z_{2})"
      ]
     },
     "metadata": {},
     "output_type": "display_data"
    },
    {
     "name": "stdout",
     "output_type": "stream",
     "text": [
      "切り捨て除算(floor division)となっている。\n",
      "ぶっちゃけ，切り捨て除算はあまり使うことはないと思われる。\n"
     ]
    }
   ],
   "source": [
    "# 「和」分の「積」を演算子\"//\"にオーバーロードする関数を準備する\n",
    "def __floordiv__(self, other):\n",
    "    return self * other / (self + other)\n",
    "\n",
    "# 2つのインピーダンスのシンボルを定義\n",
    "Z1, Z2 = sp.symbols('Z_{1} Z_{2}')\n",
    "\n",
    "# オーバーロード前の挙動\n",
    "print('Z1 // Z2 =')\n",
    "display(Z1 // Z2)\n",
    "print('切り捨て除算(floor division)となっている。')\n",
    "print('ぶっちゃけ，切り捨て除算はあまり使うことはないと思われる。')"
   ]
  },
  {
   "cell_type": "code",
   "execution_count": 3,
   "metadata": {},
   "outputs": [
    {
     "name": "stdout",
     "output_type": "stream",
     "text": [
      "Z1 // Z2 =\n"
     ]
    },
    {
     "data": {
      "text/latex": [
       "$\\displaystyle \\frac{Z_{1} Z_{2}}{Z_{1} + Z_{2}}$"
      ],
      "text/plain": [
       "Z_{1}*Z_{2}/(Z_{1} + Z_{2})"
      ]
     },
     "metadata": {},
     "output_type": "display_data"
    },
    {
     "name": "stdout",
     "output_type": "stream",
     "text": [
      "並列回路の「『和』分の『積』」となっている！\n"
     ]
    }
   ],
   "source": [
    "# 演算子のオーバーロード\n",
    "sp.Symbol.__floordiv__ = __floordiv__\n",
    "\n",
    "# オーバーロード前の挙動\n",
    "print('Z1 // Z2 =')\n",
    "display(Z1 // Z2)\n",
    "print('並列回路の「『和』分の『積』」となっている！')"
   ]
  },
  {
   "cell_type": "code",
   "execution_count": null,
   "metadata": {},
   "outputs": [],
   "source": []
  }
 ],
 "metadata": {
  "kernelspec": {
   "display_name": "Python 3",
   "language": "python",
   "name": "python3"
  },
  "language_info": {
   "codemirror_mode": {
    "name": "ipython",
    "version": 3
   },
   "file_extension": ".py",
   "mimetype": "text/x-python",
   "name": "python",
   "nbconvert_exporter": "python",
   "pygments_lexer": "ipython3",
   "version": "3.7.7"
  }
 },
 "nbformat": 4,
 "nbformat_minor": 4
}
